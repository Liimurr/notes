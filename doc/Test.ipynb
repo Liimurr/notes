{
 "cells": [
  {
   "cell_type": "code",
   "execution_count": 1,
   "id": "1aee17db-5ebe-46ab-bbd9-bb5c8b3d0114",
   "metadata": {
    "tags": []
   },
   "outputs": [
    {
     "data": {
      "text/plain": [
       "'monke'"
      ]
     },
     "execution_count": 1,
     "metadata": {},
     "output_type": "execute_result"
    }
   ],
   "source": [
    "'monke'"
   ]
  },
  {
   "cell_type": "code",
   "execution_count": null,
   "id": "db0982c0-0e1a-4441-a241-20114b869b9e",
   "metadata": {},
   "outputs": [],
   "source": []
  }
 ],
 "metadata": {
  "kernelspec": {
   "display_name": "Python 3 (ipykernel)",
   "language": "python",
   "name": "python3"
  },
  "language_info": {
   "codemirror_mode": {
    "name": "ipython",
    "version": 3
   },
   "file_extension": ".py",
   "mimetype": "text/x-python",
   "name": "python",
   "nbconvert_exporter": "python",
   "pygments_lexer": "ipython3",
   "version": "3.7.0"
  }
 },
 "nbformat": 4,
 "nbformat_minor": 5
}
